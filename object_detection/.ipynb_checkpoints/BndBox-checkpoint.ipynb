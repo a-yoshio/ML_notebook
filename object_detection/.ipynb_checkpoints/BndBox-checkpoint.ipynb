{
 "cells": [
  {
   "cell_type": "markdown",
   "metadata": {},
   "source": [
    "# Bnd Box\n",
    "### 画像データにアノテーションを作成する。"
   ]
  },
  {
   "cell_type": "code",
   "execution_count": 7,
   "metadata": {},
   "outputs": [],
   "source": [
    "import cv2\n",
    "import xml.dom.minidom  as mindom #最小限のDOMの実装\n",
    "import xml.etree.ElementTree as ET\n",
    "import glob\n",
    "import os\n",
    "import xml.dom.minidom as minidom"
   ]
  },
  {
   "cell_type": "code",
   "execution_count": 2,
   "metadata": {},
   "outputs": [],
   "source": [
    "class BndBox:\n",
    "  def __init__(self, img, fname):\n",
    "    self.inHeight, self.inWidth = img.shape[:2]\n",
    "    self.xmin = 0\n",
    "    self.ymin = 0\n",
    "    self.xmax = 0\n",
    "    self.ymax = 0\n",
    "    self.drawing = False\n",
    "    self.img = img\n",
    "    self.fname = fname\n",
    "\n",
    "  def mouse_event(self, event, x, y, flags, param):\n",
    "    if event == cv2.EVENT_LBUTTONDOWN:\n",
    "      self.drawing = True\n",
    "      self.xmin = x\n",
    "      self.ymin = y\n",
    "    elif event == cv2.EVENT_MOUSEMOVE:\n",
    "      if self.drawing:\n",
    "        img_copy = self.img.copy()\n",
    "        cv2.rectangle(img_copy,(self.xmin,self.ymin),(x,y),(0,255,0),1)\n",
    "        cv2.imshow(self.fname, img_copy)\n",
    "    elif event == cv2.EVENT_LBUTTONUP:\n",
    "      self.drawing = False\n",
    "      self.xmax = x\n",
    "      self.ymax = y\n",
    "      img_copy = self.img.copy()\n",
    "      cv2.rectangle(img_copy,(self.xmin,self.ymin),(x,y),(0,255,0),1)\n",
    "      cv2.imshow(self.fname, img_copy)\n",
    "\n",
    "  def clear(self):\n",
    "    self.xmin = 0\n",
    "    self.ymin = 0\n",
    "    self.xmax = 0\n",
    "    self.ymax = 0\n",
    "    cv2.imshow(self.fname, self.img)\n",
    "\n",
    "  def save(self):\n",
    "    annotation = ET.Element('annotation')\n",
    "\n",
    "    filename = ET.SubElement(annotation, 'filename')\n",
    "    filename.text = self.fname + \".jpg\"\n",
    "\n",
    "    size = ET.SubElement(annotation, 'size')\n",
    "    width = ET.SubElement(size, 'width')\n",
    "    width.text = str(self.inWidth)\n",
    "    height = ET.SubElement(size, 'height')\n",
    "    height.text = str(self.inHeight)\n",
    "    depth = ET.SubElement(size, 'depth')\n",
    "    depth.text = \"3\"\n",
    "\n",
    "    object = ET.SubElement(annotation, 'object')\n",
    "    pose = ET.SubElement(object, 'pose')\n",
    "    pose.text = \"Unspecified\"\n",
    "    truncated = ET.SubElement(object, 'truncated')\n",
    "    truncated.text = \"0\"\n",
    "    difficult = ET.SubElement(object, 'difficult')\n",
    "    difficult.text = \"0\"\n",
    "    bndbox = ET.SubElement(object, 'bndbox')\n",
    "    xmin = ET.SubElement(bndbox, 'xmin')\n",
    "    xmin.text = str(self.xmin)\n",
    "    ymin = ET.SubElement(bndbox, 'ymin')\n",
    "    ymin.text = str(self.ymin)\n",
    "    xmax = ET.SubElement(bndbox, 'xmax')\n",
    "    xmax.text = str(self.xmax)\n",
    "    ymax = ET.SubElement(bndbox, 'ymax')\n",
    "    ymax.text = str(self.ymax)\n",
    "\n",
    "    string = ET.tostring(annotation, 'utf-8')\n",
    "    pretty_string = minidom.parseString(string).toprettyxml(indent='  ')\n",
    "\n",
    "    xml_file = os.path.join(ANNOTATION_DIR,\"xmls\",self.fname + '.xml')\n",
    "    with open(xml_file, 'w') as f:\n",
    "      f.write(pretty_string)"
   ]
  },
  {
   "cell_type": "code",
   "execution_count": 9,
   "metadata": {},
   "outputs": [],
   "source": [
    "IMAGE_DIR = './img'\n",
    "ANNOTATION_DIR = './annotation' "
   ]
  },
  {
   "cell_type": "code",
   "execution_count": 10,
   "metadata": {},
   "outputs": [
    {
     "name": "stdout",
     "output_type": "stream",
     "text": [
      "SEARCH JPG FILE:  ['./img/3_98303329601bdb62e8bb9a19e71f14b4_583x585.jpg']\n"
     ]
    },
    {
     "ename": "FileNotFoundError",
     "evalue": "[Errno 2] No such file or directory: './annotation/xmls/3_98303329601bdb62e8bb9a19e71f14b4_583x585.xml'",
     "output_type": "error",
     "traceback": [
      "\u001b[0;31m---------------------------------------------------------------------------\u001b[0m",
      "\u001b[0;31mFileNotFoundError\u001b[0m                         Traceback (most recent call last)",
      "\u001b[0;32m<ipython-input-10-80a9891df0e7>\u001b[0m in \u001b[0;36m<module>\u001b[0;34m\u001b[0m\n\u001b[1;32m     16\u001b[0m     \u001b[0mcv2\u001b[0m\u001b[0;34m.\u001b[0m\u001b[0mimshow\u001b[0m\u001b[0;34m(\u001b[0m\u001b[0mfname\u001b[0m\u001b[0;34m,\u001b[0m \u001b[0mimg\u001b[0m\u001b[0;34m)\u001b[0m\u001b[0;34m\u001b[0m\u001b[0m\n\u001b[1;32m     17\u001b[0m     \u001b[0;32mif\u001b[0m \u001b[0mcv2\u001b[0m\u001b[0;34m.\u001b[0m\u001b[0mwaitKey\u001b[0m\u001b[0;34m(\u001b[0m\u001b[0;36m1\u001b[0m\u001b[0;34m)\u001b[0m \u001b[0;34m&\u001b[0m \u001b[0;36m0xFF\u001b[0m \u001b[0;34m==\u001b[0m \u001b[0mord\u001b[0m\u001b[0;34m(\u001b[0m\u001b[0;34m\"n\"\u001b[0m\u001b[0;34m)\u001b[0m\u001b[0;34m:\u001b[0m \u001b[0;31m#nを押せば、xmlファイルを保存し、次画像へ\u001b[0m\u001b[0;34m\u001b[0m\u001b[0m\n\u001b[0;32m---> 18\u001b[0;31m       \u001b[0mbndBox\u001b[0m\u001b[0;34m.\u001b[0m\u001b[0msave\u001b[0m\u001b[0;34m(\u001b[0m\u001b[0;34m)\u001b[0m\u001b[0;34m\u001b[0m\u001b[0m\n\u001b[0m\u001b[1;32m     19\u001b[0m       \u001b[0mtrainval\u001b[0m\u001b[0;34m.\u001b[0m\u001b[0mappend\u001b[0m\u001b[0;34m(\u001b[0m\u001b[0mfname\u001b[0m\u001b[0;34m+\u001b[0m\u001b[0;34m\" \"\u001b[0m\u001b[0;34m+\u001b[0m\u001b[0;34m\"1\"\u001b[0m\u001b[0;34m)\u001b[0m\u001b[0;34m\u001b[0m\u001b[0m\n\u001b[1;32m     20\u001b[0m       \u001b[0mprint\u001b[0m\u001b[0;34m(\u001b[0m\u001b[0mbndBox\u001b[0m\u001b[0;34m.\u001b[0m\u001b[0mxmin\u001b[0m\u001b[0;34m,\u001b[0m\u001b[0mbndBox\u001b[0m\u001b[0;34m.\u001b[0m\u001b[0mymin\u001b[0m\u001b[0;34m,\u001b[0m\u001b[0mbndBox\u001b[0m\u001b[0;34m.\u001b[0m\u001b[0mxmax\u001b[0m\u001b[0;34m,\u001b[0m\u001b[0mbndBox\u001b[0m\u001b[0;34m.\u001b[0m\u001b[0mymax\u001b[0m\u001b[0;34m,\u001b[0m\u001b[0mfname\u001b[0m\u001b[0;34m+\u001b[0m\u001b[0;34m\" saved\"\u001b[0m\u001b[0;34m)\u001b[0m\u001b[0;34m\u001b[0m\u001b[0m\n",
      "\u001b[0;32m<ipython-input-2-efd74d02e48b>\u001b[0m in \u001b[0;36msave\u001b[0;34m(self)\u001b[0m\n\u001b[1;32m     70\u001b[0m \u001b[0;34m\u001b[0m\u001b[0m\n\u001b[1;32m     71\u001b[0m     \u001b[0mxml_file\u001b[0m \u001b[0;34m=\u001b[0m \u001b[0mos\u001b[0m\u001b[0;34m.\u001b[0m\u001b[0mpath\u001b[0m\u001b[0;34m.\u001b[0m\u001b[0mjoin\u001b[0m\u001b[0;34m(\u001b[0m\u001b[0mANNOTATION_DIR\u001b[0m\u001b[0;34m,\u001b[0m\u001b[0;34m\"xmls\"\u001b[0m\u001b[0;34m,\u001b[0m\u001b[0mself\u001b[0m\u001b[0;34m.\u001b[0m\u001b[0mfname\u001b[0m \u001b[0;34m+\u001b[0m \u001b[0;34m'.xml'\u001b[0m\u001b[0;34m)\u001b[0m\u001b[0;34m\u001b[0m\u001b[0m\n\u001b[0;32m---> 72\u001b[0;31m     \u001b[0;32mwith\u001b[0m \u001b[0mopen\u001b[0m\u001b[0;34m(\u001b[0m\u001b[0mxml_file\u001b[0m\u001b[0;34m,\u001b[0m \u001b[0;34m'w'\u001b[0m\u001b[0;34m)\u001b[0m \u001b[0;32mas\u001b[0m \u001b[0mf\u001b[0m\u001b[0;34m:\u001b[0m\u001b[0;34m\u001b[0m\u001b[0m\n\u001b[0m\u001b[1;32m     73\u001b[0m       \u001b[0mf\u001b[0m\u001b[0;34m.\u001b[0m\u001b[0mwrite\u001b[0m\u001b[0;34m(\u001b[0m\u001b[0mpretty_string\u001b[0m\u001b[0;34m)\u001b[0m\u001b[0;34m\u001b[0m\u001b[0m\n",
      "\u001b[0;31mFileNotFoundError\u001b[0m: [Errno 2] No such file or directory: './annotation/xmls/3_98303329601bdb62e8bb9a19e71f14b4_583x585.xml'"
     ]
    }
   ],
   "source": [
    "# Start from here\n",
    "files = glob.glob(IMAGE_DIR+\"/*.jpg\")\n",
    "print('SEARCH JPG FILE: ', files)\n",
    "trainval = []\n",
    "\n",
    "for f in files:\n",
    "  img = cv2.imread(f)\n",
    "\n",
    "  fname = os.path.splitext(os.path.basename(f))[0]\n",
    "  bndBox = BndBox(img,fname)\n",
    "\n",
    "  cv2.namedWindow(fname)\n",
    "  cv2.setMouseCallback(fname, bndBox.mouse_event) #mouse event\n",
    "\n",
    "  while (True):\n",
    "    cv2.imshow(fname, img)\n",
    "    if cv2.waitKey(1) & 0xFF == ord(\"n\"): #nを押せば、xmlファイルを保存し、次画像へ\n",
    "      bndBox.save()\n",
    "      trainval.append(fname+\" \"+\"1\")\n",
    "      print(bndBox.xmin,bndBox.ymin,bndBox.xmax,bndBox.ymax,fname+\" saved\")\n",
    "      break\n",
    "    if cv2.waitKey(1) & 0xFF == ord(\"c\"): #cを押せば、クリアする\n",
    "      bndBox.clear()\n",
    "\n",
    "  cv2.destroyAllWindows()\n",
    "\n",
    "txt_file = os.path.join(ANNOTATION_DIR,\"trainval.txt\")\n",
    "with open(txt_file, \"w\", encoding=\"utf-8\") as f: #save trainval.txt\n",
    "  f.write(\"\\n\".join(trainval))"
   ]
  },
  {
   "cell_type": "code",
   "execution_count": null,
   "metadata": {},
   "outputs": [],
   "source": []
  }
 ],
 "metadata": {
  "kernelspec": {
   "display_name": "Python 3",
   "language": "python",
   "name": "python3"
  },
  "language_info": {
   "codemirror_mode": {
    "name": "ipython",
    "version": 3
   },
   "file_extension": ".py",
   "mimetype": "text/x-python",
   "name": "python",
   "nbconvert_exporter": "python",
   "pygments_lexer": "ipython3",
   "version": "3.7.0"
  }
 },
 "nbformat": 4,
 "nbformat_minor": 2
}
