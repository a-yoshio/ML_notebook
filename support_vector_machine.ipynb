{
 "cells": [
  {
   "cell_type": "markdown",
   "metadata": {},
   "source": [
    "# ８章　サポートベクトルマシン（SVM）\n",
    "\n",
    "SVMとは，最大マージンを実現する2クラス線形識別学習法。<br>\n",
    "多クラスの分類を行う場合は、SVMで１vsAll法に似た方法を使用することで求めることができる。"
   ]
  },
  {
   "cell_type": "code",
   "execution_count": 79,
   "metadata": {},
   "outputs": [],
   "source": [
    "import numpy as np\n",
    "import pandas as pd\n",
    "import matplotlib.pyplot as plt\n",
    "import sys"
   ]
  },
  {
   "cell_type": "markdown",
   "metadata": {},
   "source": [
    "## 1.最適識別超平面\n",
    "\n",
    "1vs1の分類。線形分離可能な場合。"
   ]
  },
  {
   "cell_type": "code",
   "execution_count": 91,
   "metadata": {},
   "outputs": [],
   "source": [
    "def f(x, y):\n",
    "    \"\"\"\n",
    "    分類器\n",
    "    \"\"\"\n",
    "    return x-y"
   ]
  },
  {
   "cell_type": "code",
   "execution_count": 93,
   "metadata": {},
   "outputs": [
    {
     "data": {
      "text/plain": [
       "array([0., 0., 0., 0., 0., 0., 0., 0., 0., 0., 0., 0., 0., 0., 0., 0., 0.,\n",
       "       0., 0., 0., 0., 0., 0., 0., 0., 0., 0., 0., 0., 0.])"
      ]
     },
     "execution_count": 93,
     "metadata": {},
     "output_type": "execute_result"
    }
   ],
   "source": [
    "#main\n",
    "\n",
    "#リストの作成\n",
    "param = sys.argv\n",
    "\n",
    "#ランダム値の固定\n",
    "np.random.seed()\n",
    "\n",
    "data_cnt = 30\n",
    "\n",
    "feature_cnt = 2 \n",
    "\n",
    "X = np.random.rand(data_cnt, feature_cnt)\n",
    "#target作成\n",
    "T = np.array([1 if f(x, y) > 0 else -1 for x,  y in X])\n",
    "\n",
    "#　param_α\n",
    "alpha = np.zeros(data_cnt)\n",
    "\n",
    "# param_β\n",
    "beta = 1.0 \n",
    "\n",
    "#update ratio of alpha\n",
    "eta_al = 0.0001\n",
    "#update ratio of beta\n",
    "eta_be = 0.1\n",
    "\n",
    "cnt= 1000\n",
    "\n",
    "#αとβを求める\n",
    "for i in range(cnt):\n",
    "    for j in range(data_cnt):\n",
    "        delta= 1-"
   ]
  },
  {
   "cell_type": "code",
   "execution_count": null,
   "metadata": {},
   "outputs": [],
   "source": []
  }
 ],
 "metadata": {
  "kernelspec": {
   "display_name": "Python 3",
   "language": "python",
   "name": "python3"
  },
  "language_info": {
   "codemirror_mode": {
    "name": "ipython",
    "version": 3
   },
   "file_extension": ".py",
   "mimetype": "text/x-python",
   "name": "python",
   "nbconvert_exporter": "python",
   "pygments_lexer": "ipython3",
   "version": "3.7.2"
  }
 },
 "nbformat": 4,
 "nbformat_minor": 2
}
