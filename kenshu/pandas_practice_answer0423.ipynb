{
 "cells": [
  {
   "cell_type": "code",
   "execution_count": 2,
   "metadata": {},
   "outputs": [],
   "source": [
    "import pandas as pd\n",
    "import numpy as np"
   ]
  },
  {
   "cell_type": "code",
   "execution_count": 7,
   "metadata": {},
   "outputs": [],
   "source": [
    "df = pd.read_csv('../../kaggle_HomeCredit/home-credit-default-risk/application_train.csv')\n",
    "cre = pd.read_csv('../../kaggle_HomeCredit/home-credit-default-risk/credit_card_balance.csv')"
   ]
  },
  {
   "cell_type": "markdown",
   "metadata": {},
   "source": [
    "### １問"
   ]
  },
  {
   "cell_type": "code",
   "execution_count": 4,
   "metadata": {},
   "outputs": [
    {
     "name": "stdout",
     "output_type": "stream",
     "text": [
      "104582\n"
     ]
    },
    {
     "data": {
      "text/html": [
       "<div>\n",
       "<style scoped>\n",
       "    .dataframe tbody tr th:only-of-type {\n",
       "        vertical-align: middle;\n",
       "    }\n",
       "\n",
       "    .dataframe tbody tr th {\n",
       "        vertical-align: top;\n",
       "    }\n",
       "\n",
       "    .dataframe thead th {\n",
       "        text-align: right;\n",
       "    }\n",
       "</style>\n",
       "<table border=\"1\" class=\"dataframe\">\n",
       "  <thead>\n",
       "    <tr style=\"text-align: right;\">\n",
       "      <th></th>\n",
       "      <th>SK_ID_CURR</th>\n",
       "      <th>TARGET</th>\n",
       "      <th>NAME_CONTRACT_TYPE</th>\n",
       "      <th>CODE_GENDER</th>\n",
       "      <th>FLAG_OWN_CAR</th>\n",
       "      <th>FLAG_OWN_REALTY</th>\n",
       "      <th>CNT_CHILDREN</th>\n",
       "      <th>AMT_INCOME_TOTAL</th>\n",
       "      <th>AMT_CREDIT</th>\n",
       "      <th>AMT_ANNUITY</th>\n",
       "      <th>...</th>\n",
       "      <th>FLAG_DOCUMENT_18</th>\n",
       "      <th>FLAG_DOCUMENT_19</th>\n",
       "      <th>FLAG_DOCUMENT_20</th>\n",
       "      <th>FLAG_DOCUMENT_21</th>\n",
       "      <th>AMT_REQ_CREDIT_BUREAU_HOUR</th>\n",
       "      <th>AMT_REQ_CREDIT_BUREAU_DAY</th>\n",
       "      <th>AMT_REQ_CREDIT_BUREAU_WEEK</th>\n",
       "      <th>AMT_REQ_CREDIT_BUREAU_MON</th>\n",
       "      <th>AMT_REQ_CREDIT_BUREAU_QRT</th>\n",
       "      <th>AMT_REQ_CREDIT_BUREAU_YEAR</th>\n",
       "    </tr>\n",
       "  </thead>\n",
       "  <tbody>\n",
       "    <tr>\n",
       "      <th>2</th>\n",
       "      <td>100004</td>\n",
       "      <td>0</td>\n",
       "      <td>Revolving loans</td>\n",
       "      <td>M</td>\n",
       "      <td>Y</td>\n",
       "      <td>Y</td>\n",
       "      <td>0</td>\n",
       "      <td>67500.0</td>\n",
       "      <td>135000.0</td>\n",
       "      <td>6750.0</td>\n",
       "      <td>...</td>\n",
       "      <td>0</td>\n",
       "      <td>0</td>\n",
       "      <td>0</td>\n",
       "      <td>0</td>\n",
       "      <td>0.0</td>\n",
       "      <td>0.0</td>\n",
       "      <td>0.0</td>\n",
       "      <td>0.0</td>\n",
       "      <td>0.0</td>\n",
       "      <td>0.0</td>\n",
       "    </tr>\n",
       "    <tr>\n",
       "      <th>6</th>\n",
       "      <td>100009</td>\n",
       "      <td>0</td>\n",
       "      <td>Cash loans</td>\n",
       "      <td>F</td>\n",
       "      <td>Y</td>\n",
       "      <td>Y</td>\n",
       "      <td>1</td>\n",
       "      <td>171000.0</td>\n",
       "      <td>1560726.0</td>\n",
       "      <td>41301.0</td>\n",
       "      <td>...</td>\n",
       "      <td>0</td>\n",
       "      <td>0</td>\n",
       "      <td>0</td>\n",
       "      <td>0</td>\n",
       "      <td>0.0</td>\n",
       "      <td>0.0</td>\n",
       "      <td>0.0</td>\n",
       "      <td>1.0</td>\n",
       "      <td>1.0</td>\n",
       "      <td>2.0</td>\n",
       "    </tr>\n",
       "    <tr>\n",
       "      <th>7</th>\n",
       "      <td>100010</td>\n",
       "      <td>0</td>\n",
       "      <td>Cash loans</td>\n",
       "      <td>M</td>\n",
       "      <td>Y</td>\n",
       "      <td>Y</td>\n",
       "      <td>0</td>\n",
       "      <td>360000.0</td>\n",
       "      <td>1530000.0</td>\n",
       "      <td>42075.0</td>\n",
       "      <td>...</td>\n",
       "      <td>0</td>\n",
       "      <td>0</td>\n",
       "      <td>0</td>\n",
       "      <td>0</td>\n",
       "      <td>0.0</td>\n",
       "      <td>0.0</td>\n",
       "      <td>0.0</td>\n",
       "      <td>0.0</td>\n",
       "      <td>0.0</td>\n",
       "      <td>0.0</td>\n",
       "    </tr>\n",
       "    <tr>\n",
       "      <th>13</th>\n",
       "      <td>100017</td>\n",
       "      <td>0</td>\n",
       "      <td>Cash loans</td>\n",
       "      <td>M</td>\n",
       "      <td>Y</td>\n",
       "      <td>N</td>\n",
       "      <td>1</td>\n",
       "      <td>225000.0</td>\n",
       "      <td>918468.0</td>\n",
       "      <td>28966.5</td>\n",
       "      <td>...</td>\n",
       "      <td>0</td>\n",
       "      <td>0</td>\n",
       "      <td>0</td>\n",
       "      <td>0</td>\n",
       "      <td>0.0</td>\n",
       "      <td>0.0</td>\n",
       "      <td>0.0</td>\n",
       "      <td>0.0</td>\n",
       "      <td>0.0</td>\n",
       "      <td>1.0</td>\n",
       "    </tr>\n",
       "    <tr>\n",
       "      <th>15</th>\n",
       "      <td>100019</td>\n",
       "      <td>0</td>\n",
       "      <td>Cash loans</td>\n",
       "      <td>M</td>\n",
       "      <td>Y</td>\n",
       "      <td>Y</td>\n",
       "      <td>0</td>\n",
       "      <td>157500.0</td>\n",
       "      <td>299772.0</td>\n",
       "      <td>20160.0</td>\n",
       "      <td>...</td>\n",
       "      <td>0</td>\n",
       "      <td>0</td>\n",
       "      <td>0</td>\n",
       "      <td>0</td>\n",
       "      <td>0.0</td>\n",
       "      <td>0.0</td>\n",
       "      <td>0.0</td>\n",
       "      <td>0.0</td>\n",
       "      <td>0.0</td>\n",
       "      <td>1.0</td>\n",
       "    </tr>\n",
       "  </tbody>\n",
       "</table>\n",
       "<p>5 rows × 122 columns</p>\n",
       "</div>"
      ],
      "text/plain": [
       "    SK_ID_CURR  TARGET NAME_CONTRACT_TYPE CODE_GENDER FLAG_OWN_CAR  \\\n",
       "2       100004       0    Revolving loans           M            Y   \n",
       "6       100009       0         Cash loans           F            Y   \n",
       "7       100010       0         Cash loans           M            Y   \n",
       "13      100017       0         Cash loans           M            Y   \n",
       "15      100019       0         Cash loans           M            Y   \n",
       "\n",
       "   FLAG_OWN_REALTY  CNT_CHILDREN  AMT_INCOME_TOTAL  AMT_CREDIT  AMT_ANNUITY  \\\n",
       "2                Y             0           67500.0    135000.0       6750.0   \n",
       "6                Y             1          171000.0   1560726.0      41301.0   \n",
       "7                Y             0          360000.0   1530000.0      42075.0   \n",
       "13               N             1          225000.0    918468.0      28966.5   \n",
       "15               Y             0          157500.0    299772.0      20160.0   \n",
       "\n",
       "               ...              FLAG_DOCUMENT_18 FLAG_DOCUMENT_19  \\\n",
       "2              ...                             0                0   \n",
       "6              ...                             0                0   \n",
       "7              ...                             0                0   \n",
       "13             ...                             0                0   \n",
       "15             ...                             0                0   \n",
       "\n",
       "   FLAG_DOCUMENT_20 FLAG_DOCUMENT_21 AMT_REQ_CREDIT_BUREAU_HOUR  \\\n",
       "2                 0                0                        0.0   \n",
       "6                 0                0                        0.0   \n",
       "7                 0                0                        0.0   \n",
       "13                0                0                        0.0   \n",
       "15                0                0                        0.0   \n",
       "\n",
       "   AMT_REQ_CREDIT_BUREAU_DAY  AMT_REQ_CREDIT_BUREAU_WEEK  \\\n",
       "2                        0.0                         0.0   \n",
       "6                        0.0                         0.0   \n",
       "7                        0.0                         0.0   \n",
       "13                       0.0                         0.0   \n",
       "15                       0.0                         0.0   \n",
       "\n",
       "    AMT_REQ_CREDIT_BUREAU_MON  AMT_REQ_CREDIT_BUREAU_QRT  \\\n",
       "2                         0.0                        0.0   \n",
       "6                         1.0                        1.0   \n",
       "7                         0.0                        0.0   \n",
       "13                        0.0                        0.0   \n",
       "15                        0.0                        0.0   \n",
       "\n",
       "    AMT_REQ_CREDIT_BUREAU_YEAR  \n",
       "2                          0.0  \n",
       "6                          2.0  \n",
       "7                          0.0  \n",
       "13                         1.0  \n",
       "15                         1.0  \n",
       "\n",
       "[5 rows x 122 columns]"
      ]
     },
     "execution_count": 4,
     "metadata": {},
     "output_type": "execute_result"
    }
   ],
   "source": [
    "a1 = df.query('OWN_CAR_AGE != \"NaN\"')\n",
    "print(len(a1))\n",
    "a1.head()"
   ]
  },
  {
   "cell_type": "markdown",
   "metadata": {},
   "source": [
    "### ２問"
   ]
  },
  {
   "cell_type": "code",
   "execution_count": 5,
   "metadata": {},
   "outputs": [
    {
     "data": {
      "text/plain": [
       "86905"
      ]
     },
     "execution_count": 5,
     "metadata": {},
     "output_type": "execute_result"
    }
   ],
   "source": [
    "len(pd.merge(df, cre, on='SK_ID_CURR' , how='inner').groupby('SK_ID_CURR'))"
   ]
  },
  {
   "cell_type": "markdown",
   "metadata": {},
   "source": [
    "### ３問"
   ]
  },
  {
   "cell_type": "code",
   "execution_count": 6,
   "metadata": {},
   "outputs": [],
   "source": [
    "df_3 = df.copy()\n",
    "df_3.loc[df_3['CODE_GENDER']=='F', 'CODE_GENDER'] = 0\n",
    "df_3.loc[df_3['CODE_GENDER']=='M', 'CODE_GENDER'] = 1\n",
    "df_3.loc[df_3['CODE_GENDER']=='XNA', 'CODE_GENDER'] = 2"
   ]
  },
  {
   "cell_type": "code",
   "execution_count": 7,
   "metadata": {},
   "outputs": [
    {
     "data": {
      "text/plain": [
       "0    M\n",
       "1    F\n",
       "2    M\n",
       "3    F\n",
       "4    M\n",
       "Name: CODE_GENDER, dtype: object"
      ]
     },
     "execution_count": 7,
     "metadata": {},
     "output_type": "execute_result"
    }
   ],
   "source": [
    "df['CODE_GENDER'].head()"
   ]
  },
  {
   "cell_type": "markdown",
   "metadata": {},
   "source": [
    "### 4問"
   ]
  },
  {
   "cell_type": "code",
   "execution_count": 8,
   "metadata": {},
   "outputs": [
    {
     "data": {
      "text/plain": [
       "AMT_INCOME_TOTAL              1.170000e+08\n",
       "REGION_POPULATION_RELATIVE    7.250800e-02\n",
       "dtype: float64"
      ]
     },
     "execution_count": 8,
     "metadata": {},
     "output_type": "execute_result"
    }
   ],
   "source": [
    "df[['AMT_INCOME_TOTAL', 'REGION_POPULATION_RELATIVE']].apply(lambda x: x.max())"
   ]
  },
  {
   "cell_type": "markdown",
   "metadata": {},
   "source": [
    "### 5問"
   ]
  },
  {
   "cell_type": "code",
   "execution_count": 9,
   "metadata": {},
   "outputs": [
    {
     "data": {
      "text/plain": [
       "AMT_INCOME_TOTAL              168797.919297\n",
       "REGION_POPULATION_RELATIVE         0.000290\n",
       "dtype: float64"
      ]
     },
     "execution_count": 9,
     "metadata": {},
     "output_type": "execute_result"
    }
   ],
   "source": [
    "from statistics import mean\n",
    "\n",
    "f1 = lambda x: mean(x) if x.name == 'AMT_INCOME_TOTAL' else x.min()\n",
    "df[['AMT_INCOME_TOTAL', 'REGION_POPULATION_RELATIVE']].apply(f1)"
   ]
  },
  {
   "cell_type": "markdown",
   "metadata": {},
   "source": [
    "### 6問"
   ]
  },
  {
   "cell_type": "code",
   "execution_count": 10,
   "metadata": {},
   "outputs": [
    {
     "name": "stdout",
     "output_type": "stream",
     "text": [
      "numerical list:  106\n",
      "not numerical list:  16\n"
     ]
    }
   ],
   "source": [
    "#for文\n",
    "numerical_col =[]\n",
    "not_numerical_col = []\n",
    "for col in df:\n",
    "    if df[col].dtype == 'object':\n",
    "        not_numerical_col.append(col)\n",
    "    else:\n",
    "        numerical_col.append(col)\n",
    "\n",
    "print('numerical list: ', len(numerical_col))\n",
    "print('not numerical list: ', len(not_numerical_col))"
   ]
  },
  {
   "cell_type": "code",
   "execution_count": 11,
   "metadata": {},
   "outputs": [
    {
     "name": "stdout",
     "output_type": "stream",
     "text": [
      "numerical list:  106\n",
      "not numerical list:  16\n"
     ]
    }
   ],
   "source": [
    "#ワンライナー\n",
    "numerical_col2 =[]\n",
    "not_numerical_col2 = []\n",
    "f2 = lambda x: not_numerical_col2.append(x.name) if df[x.name].dtype == 'object' else numerical_col2.append(x.name)\n",
    "\n",
    "df.apply(f2)\n",
    "print('numerical list: ', len(numerical_col2))\n",
    "print('not numerical list: ', len(not_numerical_col2))"
   ]
  },
  {
   "cell_type": "markdown",
   "metadata": {},
   "source": [
    "### 7問"
   ]
  },
  {
   "cell_type": "code",
   "execution_count": 3,
   "metadata": {},
   "outputs": [],
   "source": [
    "bureau = pd.read_csv('../../kaggle_HomeCredit/home-credit-default-risk/bureau.csv')"
   ]
  },
  {
   "cell_type": "code",
   "execution_count": 55,
   "metadata": {},
   "outputs": [],
   "source": [
    "curr_162297 = bureau[bureau['SK_ID_CURR'] == 162297].sort_values('DAYS_CREDIT', ascending=False)\n",
    "curr_215354 = bureau[bureau['SK_ID_CURR'] == 215354].sort_values('DAYS_CREDIT', ascending=False)"
   ]
  },
  {
   "cell_type": "code",
   "execution_count": 65,
   "metadata": {},
   "outputs": [],
   "source": [
    "new_bureau= bureau.copy()\n",
    "new_bureau.loc[new_bureau['SK_ID_CURR'] == 162297, 'PREVIOUS_DAYS_DIFF'] = curr_162297['DAYS_CREDIT']-curr_162297.shift(-1)['DAYS_CREDIT']\n",
    "new_bureau.loc[bureau['SK_ID_CURR'] == 215354, 'PREVIOUS_DAYS_DIFF'] = curr_215354['DAYS_CREDIT'] - curr_215354.shift(-1)['DAYS_CREDIT']"
   ]
  },
  {
   "cell_type": "code",
   "execution_count": 74,
   "metadata": {},
   "outputs": [
    {
     "data": {
      "text/html": [
       "<div>\n",
       "<style scoped>\n",
       "    .dataframe tbody tr th:only-of-type {\n",
       "        vertical-align: middle;\n",
       "    }\n",
       "\n",
       "    .dataframe tbody tr th {\n",
       "        vertical-align: top;\n",
       "    }\n",
       "\n",
       "    .dataframe thead th {\n",
       "        text-align: right;\n",
       "    }\n",
       "</style>\n",
       "<table border=\"1\" class=\"dataframe\">\n",
       "  <thead>\n",
       "    <tr style=\"text-align: right;\">\n",
       "      <th></th>\n",
       "      <th>SK_ID_CURR</th>\n",
       "      <th>SK_ID_BUREAU</th>\n",
       "      <th>DAYS_CREDIT</th>\n",
       "      <th>PREVIOUS_DAYS_DIFF</th>\n",
       "    </tr>\n",
       "  </thead>\n",
       "  <tbody>\n",
       "    <tr>\n",
       "      <th>0</th>\n",
       "      <td>162297</td>\n",
       "      <td>5714474</td>\n",
       "      <td>-277</td>\n",
       "      <td>869.0</td>\n",
       "    </tr>\n",
       "    <tr>\n",
       "      <th>1</th>\n",
       "      <td>162297</td>\n",
       "      <td>5714470</td>\n",
       "      <td>-1146</td>\n",
       "      <td>0.0</td>\n",
       "    </tr>\n",
       "    <tr>\n",
       "      <th>2</th>\n",
       "      <td>162297</td>\n",
       "      <td>5714471</td>\n",
       "      <td>-1146</td>\n",
       "      <td>0.0</td>\n",
       "    </tr>\n",
       "    <tr>\n",
       "      <th>3</th>\n",
       "      <td>162297</td>\n",
       "      <td>5714472</td>\n",
       "      <td>-1146</td>\n",
       "      <td>750.0</td>\n",
       "    </tr>\n",
       "    <tr>\n",
       "      <th>4</th>\n",
       "      <td>162297</td>\n",
       "      <td>5714469</td>\n",
       "      <td>-1896</td>\n",
       "      <td>560.0</td>\n",
       "    </tr>\n",
       "    <tr>\n",
       "      <th>5</th>\n",
       "      <td>162297</td>\n",
       "      <td>5714473</td>\n",
       "      <td>-2456</td>\n",
       "      <td>0.0</td>\n",
       "    </tr>\n",
       "    <tr>\n",
       "      <th>6</th>\n",
       "      <td>215354</td>\n",
       "      <td>5714468</td>\n",
       "      <td>-43</td>\n",
       "      <td>160.0</td>\n",
       "    </tr>\n",
       "    <tr>\n",
       "      <th>7</th>\n",
       "      <td>215354</td>\n",
       "      <td>5714464</td>\n",
       "      <td>-203</td>\n",
       "      <td>0.0</td>\n",
       "    </tr>\n",
       "    <tr>\n",
       "      <th>8</th>\n",
       "      <td>215354</td>\n",
       "      <td>5714465</td>\n",
       "      <td>-203</td>\n",
       "      <td>5.0</td>\n",
       "    </tr>\n",
       "    <tr>\n",
       "      <th>9</th>\n",
       "      <td>215354</td>\n",
       "      <td>5714463</td>\n",
       "      <td>-208</td>\n",
       "      <td>65.0</td>\n",
       "    </tr>\n",
       "    <tr>\n",
       "      <th>10</th>\n",
       "      <td>215354</td>\n",
       "      <td>5714467</td>\n",
       "      <td>-273</td>\n",
       "      <td>224.0</td>\n",
       "    </tr>\n",
       "    <tr>\n",
       "      <th>11</th>\n",
       "      <td>215354</td>\n",
       "      <td>5714462</td>\n",
       "      <td>-497</td>\n",
       "      <td>132.0</td>\n",
       "    </tr>\n",
       "    <tr>\n",
       "      <th>12</th>\n",
       "      <td>215354</td>\n",
       "      <td>5714466</td>\n",
       "      <td>-629</td>\n",
       "      <td>382.0</td>\n",
       "    </tr>\n",
       "    <tr>\n",
       "      <th>13</th>\n",
       "      <td>215354</td>\n",
       "      <td>5714461</td>\n",
       "      <td>-1011</td>\n",
       "      <td>322.0</td>\n",
       "    </tr>\n",
       "    <tr>\n",
       "      <th>14</th>\n",
       "      <td>215354</td>\n",
       "      <td>5714460</td>\n",
       "      <td>-1333</td>\n",
       "      <td>401.0</td>\n",
       "    </tr>\n",
       "    <tr>\n",
       "      <th>15</th>\n",
       "      <td>215354</td>\n",
       "      <td>5714459</td>\n",
       "      <td>-1734</td>\n",
       "      <td>138.0</td>\n",
       "    </tr>\n",
       "    <tr>\n",
       "      <th>16</th>\n",
       "      <td>215354</td>\n",
       "      <td>5714458</td>\n",
       "      <td>-1872</td>\n",
       "      <td>0.0</td>\n",
       "    </tr>\n",
       "  </tbody>\n",
       "</table>\n",
       "</div>"
      ],
      "text/plain": [
       "    SK_ID_CURR  SK_ID_BUREAU  DAYS_CREDIT  PREVIOUS_DAYS_DIFF\n",
       "0       162297       5714474         -277               869.0\n",
       "1       162297       5714470        -1146                 0.0\n",
       "2       162297       5714471        -1146                 0.0\n",
       "3       162297       5714472        -1146               750.0\n",
       "4       162297       5714469        -1896               560.0\n",
       "5       162297       5714473        -2456                 0.0\n",
       "6       215354       5714468          -43               160.0\n",
       "7       215354       5714464         -203                 0.0\n",
       "8       215354       5714465         -203                 5.0\n",
       "9       215354       5714463         -208                65.0\n",
       "10      215354       5714467         -273               224.0\n",
       "11      215354       5714462         -497               132.0\n",
       "12      215354       5714466         -629               382.0\n",
       "13      215354       5714461        -1011               322.0\n",
       "14      215354       5714460        -1333               401.0\n",
       "15      215354       5714459        -1734               138.0\n",
       "16      215354       5714458        -1872                 0.0"
      ]
     },
     "execution_count": 74,
     "metadata": {},
     "output_type": "execute_result"
    }
   ],
   "source": [
    "get_colum_li = ['SK_ID_CURR','SK_ID_BUREAU','DAYS_CREDIT','PREVIOUS_DAYS_DIFF']\n",
    "id_li =[162297, 215354]\n",
    "a = new_bureau[get_colum_li].query('SK_ID_CURR == @id_li').fillna(0).sort_values(['SK_ID_CURR', 'DAYS_CREDIT'], ascending=[True, False])\n",
    "a.index = range(len(a))\n",
    "a"
   ]
  },
  {
   "cell_type": "markdown",
   "metadata": {},
   "source": [
    "### 8問"
   ]
  },
  {
   "cell_type": "code",
   "execution_count": 17,
   "metadata": {},
   "outputs": [
    {
     "data": {
      "text/html": [
       "<div>\n",
       "<style scoped>\n",
       "    .dataframe tbody tr th:only-of-type {\n",
       "        vertical-align: middle;\n",
       "    }\n",
       "\n",
       "    .dataframe tbody tr th {\n",
       "        vertical-align: top;\n",
       "    }\n",
       "\n",
       "    .dataframe thead tr th {\n",
       "        text-align: left;\n",
       "    }\n",
       "</style>\n",
       "<table border=\"1\" class=\"dataframe\">\n",
       "  <thead>\n",
       "    <tr>\n",
       "      <th></th>\n",
       "      <th>FLAG_OWN_CAR</th>\n",
       "      <th>CODE_GENDER</th>\n",
       "      <th colspan=\"2\" halign=\"left\">AMT_CREDIT</th>\n",
       "    </tr>\n",
       "    <tr>\n",
       "      <th></th>\n",
       "      <th></th>\n",
       "      <th></th>\n",
       "      <th>mean</th>\n",
       "      <th>std</th>\n",
       "    </tr>\n",
       "  </thead>\n",
       "  <tbody>\n",
       "    <tr>\n",
       "      <th>0</th>\n",
       "      <td>N</td>\n",
       "      <td>F</td>\n",
       "      <td>567929.776823</td>\n",
       "      <td>380808.064188</td>\n",
       "    </tr>\n",
       "    <tr>\n",
       "      <th>1</th>\n",
       "      <td>N</td>\n",
       "      <td>M</td>\n",
       "      <td>556830.818128</td>\n",
       "      <td>381202.761174</td>\n",
       "    </tr>\n",
       "    <tr>\n",
       "      <th>2</th>\n",
       "      <td>N</td>\n",
       "      <td>XNA</td>\n",
       "      <td>337500.000000</td>\n",
       "      <td>95459.415460</td>\n",
       "    </tr>\n",
       "    <tr>\n",
       "      <th>3</th>\n",
       "      <td>Y</td>\n",
       "      <td>F</td>\n",
       "      <td>679769.206677</td>\n",
       "      <td>440545.803389</td>\n",
       "    </tr>\n",
       "    <tr>\n",
       "      <th>4</th>\n",
       "      <td>Y</td>\n",
       "      <td>M</td>\n",
       "      <td>652442.822770</td>\n",
       "      <td>428621.732854</td>\n",
       "    </tr>\n",
       "    <tr>\n",
       "      <th>5</th>\n",
       "      <td>Y</td>\n",
       "      <td>XNA</td>\n",
       "      <td>461250.000000</td>\n",
       "      <td>111369.318037</td>\n",
       "    </tr>\n",
       "  </tbody>\n",
       "</table>\n",
       "</div>"
      ],
      "text/plain": [
       "  FLAG_OWN_CAR CODE_GENDER     AMT_CREDIT               \n",
       "                                     mean            std\n",
       "0            N           F  567929.776823  380808.064188\n",
       "1            N           M  556830.818128  381202.761174\n",
       "2            N         XNA  337500.000000   95459.415460\n",
       "3            Y           F  679769.206677  440545.803389\n",
       "4            Y           M  652442.822770  428621.732854\n",
       "5            Y         XNA  461250.000000  111369.318037"
      ]
     },
     "execution_count": 17,
     "metadata": {},
     "output_type": "execute_result"
    }
   ],
   "source": [
    "array_8 = df.groupby(['FLAG_OWN_CAR', 'CODE_GENDER']).agg({'AMT_CREDIT': ['mean', 'std']}).reset_index()\n",
    "array_8"
   ]
  },
  {
   "cell_type": "code",
   "execution_count": 18,
   "metadata": {},
   "outputs": [
    {
     "data": {
      "text/html": [
       "<div>\n",
       "<style scoped>\n",
       "    .dataframe tbody tr th:only-of-type {\n",
       "        vertical-align: middle;\n",
       "    }\n",
       "\n",
       "    .dataframe tbody tr th {\n",
       "        vertical-align: top;\n",
       "    }\n",
       "\n",
       "    .dataframe thead th {\n",
       "        text-align: right;\n",
       "    }\n",
       "</style>\n",
       "<table border=\"1\" class=\"dataframe\">\n",
       "  <thead>\n",
       "    <tr style=\"text-align: right;\">\n",
       "      <th></th>\n",
       "      <th>CODE_GENDER</th>\n",
       "      <th>FLAG_OWN_CAR</th>\n",
       "      <th>AMT_CREDIT_mean</th>\n",
       "      <th>AMT_CREDIT_std</th>\n",
       "    </tr>\n",
       "  </thead>\n",
       "  <tbody>\n",
       "    <tr>\n",
       "      <th>0</th>\n",
       "      <td>N</td>\n",
       "      <td>F</td>\n",
       "      <td>567929.776823</td>\n",
       "      <td>380808.064188</td>\n",
       "    </tr>\n",
       "    <tr>\n",
       "      <th>1</th>\n",
       "      <td>N</td>\n",
       "      <td>M</td>\n",
       "      <td>556830.818128</td>\n",
       "      <td>381202.761174</td>\n",
       "    </tr>\n",
       "    <tr>\n",
       "      <th>2</th>\n",
       "      <td>N</td>\n",
       "      <td>XNA</td>\n",
       "      <td>337500.000000</td>\n",
       "      <td>95459.415460</td>\n",
       "    </tr>\n",
       "    <tr>\n",
       "      <th>3</th>\n",
       "      <td>Y</td>\n",
       "      <td>F</td>\n",
       "      <td>679769.206677</td>\n",
       "      <td>440545.803389</td>\n",
       "    </tr>\n",
       "    <tr>\n",
       "      <th>4</th>\n",
       "      <td>Y</td>\n",
       "      <td>M</td>\n",
       "      <td>652442.822770</td>\n",
       "      <td>428621.732854</td>\n",
       "    </tr>\n",
       "    <tr>\n",
       "      <th>5</th>\n",
       "      <td>Y</td>\n",
       "      <td>XNA</td>\n",
       "      <td>461250.000000</td>\n",
       "      <td>111369.318037</td>\n",
       "    </tr>\n",
       "  </tbody>\n",
       "</table>\n",
       "</div>"
      ],
      "text/plain": [
       "  CODE_GENDER FLAG_OWN_CAR  AMT_CREDIT_mean  AMT_CREDIT_std\n",
       "0           N            F    567929.776823   380808.064188\n",
       "1           N            M    556830.818128   381202.761174\n",
       "2           N          XNA    337500.000000    95459.415460\n",
       "3           Y            F    679769.206677   440545.803389\n",
       "4           Y            M    652442.822770   428621.732854\n",
       "5           Y          XNA    461250.000000   111369.318037"
      ]
     },
     "execution_count": 18,
     "metadata": {},
     "output_type": "execute_result"
    }
   ],
   "source": [
    "array_8.columns = ['CODE_GENDER', 'FLAG_OWN_CAR', 'AMT_CREDIT_mean', 'AMT_CREDIT_std', ]\n",
    "array_8"
   ]
  },
  {
   "cell_type": "markdown",
   "metadata": {},
   "source": [
    "### 9問"
   ]
  },
  {
   "cell_type": "code",
   "execution_count": 19,
   "metadata": {},
   "outputs": [
    {
     "data": {
      "text/html": [
       "<div>\n",
       "<style scoped>\n",
       "    .dataframe tbody tr th:only-of-type {\n",
       "        vertical-align: middle;\n",
       "    }\n",
       "\n",
       "    .dataframe tbody tr th {\n",
       "        vertical-align: top;\n",
       "    }\n",
       "\n",
       "    .dataframe thead th {\n",
       "        text-align: right;\n",
       "    }\n",
       "</style>\n",
       "<table border=\"1\" class=\"dataframe\">\n",
       "  <thead>\n",
       "    <tr style=\"text-align: right;\">\n",
       "      <th></th>\n",
       "      <th>category1</th>\n",
       "      <th>category2</th>\n",
       "    </tr>\n",
       "  </thead>\n",
       "  <tbody>\n",
       "    <tr>\n",
       "      <th>0</th>\n",
       "      <td>Secondary</td>\n",
       "      <td>secondary special</td>\n",
       "    </tr>\n",
       "    <tr>\n",
       "      <th>1</th>\n",
       "      <td>Higher education</td>\n",
       "      <td>None</td>\n",
       "    </tr>\n",
       "    <tr>\n",
       "      <th>2</th>\n",
       "      <td>Secondary</td>\n",
       "      <td>secondary special</td>\n",
       "    </tr>\n",
       "    <tr>\n",
       "      <th>3</th>\n",
       "      <td>Secondary</td>\n",
       "      <td>secondary special</td>\n",
       "    </tr>\n",
       "    <tr>\n",
       "      <th>4</th>\n",
       "      <td>Secondary</td>\n",
       "      <td>secondary special</td>\n",
       "    </tr>\n",
       "  </tbody>\n",
       "</table>\n",
       "</div>"
      ],
      "text/plain": [
       "          category1           category2\n",
       "0        Secondary    secondary special\n",
       "1  Higher education                None\n",
       "2        Secondary    secondary special\n",
       "3        Secondary    secondary special\n",
       "4        Secondary    secondary special"
      ]
     },
     "execution_count": 19,
     "metadata": {},
     "output_type": "execute_result"
    }
   ],
   "source": [
    "copy_df = df['NAME_EDUCATION_TYPE'].str.split('/', expand = True)\n",
    "copy_df.columns = ['category1', 'category2']\n",
    "copy_df.head()"
   ]
  },
  {
   "cell_type": "markdown",
   "metadata": {},
   "source": [
    "### 10問"
   ]
  },
  {
   "cell_type": "code",
   "execution_count": 20,
   "metadata": {},
   "outputs": [
    {
     "data": {
      "text/html": [
       "<div>\n",
       "<style scoped>\n",
       "    .dataframe tbody tr th:only-of-type {\n",
       "        vertical-align: middle;\n",
       "    }\n",
       "\n",
       "    .dataframe tbody tr th {\n",
       "        vertical-align: top;\n",
       "    }\n",
       "\n",
       "    .dataframe thead tr th {\n",
       "        text-align: left;\n",
       "    }\n",
       "\n",
       "    .dataframe thead tr:last-of-type th {\n",
       "        text-align: right;\n",
       "    }\n",
       "</style>\n",
       "<table border=\"1\" class=\"dataframe\">\n",
       "  <thead>\n",
       "    <tr>\n",
       "      <th>NAME_CONTRACT_TYPE</th>\n",
       "      <th colspan=\"2\" halign=\"left\">Cash loans</th>\n",
       "      <th colspan=\"3\" halign=\"left\">Revolving loans</th>\n",
       "    </tr>\n",
       "    <tr>\n",
       "      <th>CODE_GENDER</th>\n",
       "      <th>F</th>\n",
       "      <th>M</th>\n",
       "      <th>F</th>\n",
       "      <th>M</th>\n",
       "      <th>XNA</th>\n",
       "    </tr>\n",
       "    <tr>\n",
       "      <th>TARGET</th>\n",
       "      <th></th>\n",
       "      <th></th>\n",
       "      <th></th>\n",
       "      <th></th>\n",
       "      <th></th>\n",
       "    </tr>\n",
       "  </thead>\n",
       "  <tbody>\n",
       "    <tr>\n",
       "      <th>0</th>\n",
       "      <td>27524.909265</td>\n",
       "      <td>29897.304544</td>\n",
       "      <td>15727.203709</td>\n",
       "      <td>18144.192588</td>\n",
       "      <td>19968.75</td>\n",
       "    </tr>\n",
       "    <tr>\n",
       "      <th>1</th>\n",
       "      <td>26613.873467</td>\n",
       "      <td>28481.125916</td>\n",
       "      <td>12625.239693</td>\n",
       "      <td>13177.139037</td>\n",
       "      <td>NaN</td>\n",
       "    </tr>\n",
       "  </tbody>\n",
       "</table>\n",
       "</div>"
      ],
      "text/plain": [
       "NAME_CONTRACT_TYPE    Cash loans               Revolving loans                \\\n",
       "CODE_GENDER                    F             M               F             M   \n",
       "TARGET                                                                         \n",
       "0                   27524.909265  29897.304544    15727.203709  18144.192588   \n",
       "1                   26613.873467  28481.125916    12625.239693  13177.139037   \n",
       "\n",
       "NAME_CONTRACT_TYPE            \n",
       "CODE_GENDER              XNA  \n",
       "TARGET                        \n",
       "0                   19968.75  \n",
       "1                        NaN  "
      ]
     },
     "execution_count": 20,
     "metadata": {},
     "output_type": "execute_result"
    }
   ],
   "source": [
    "pd.pivot_table(df, index='TARGET', columns=['NAME_CONTRACT_TYPE', 'CODE_GENDER'], values='AMT_ANNUITY', aggfunc='mean')"
   ]
  },
  {
   "cell_type": "code",
   "execution_count": null,
   "metadata": {},
   "outputs": [],
   "source": []
  }
 ],
 "metadata": {
  "kernelspec": {
   "display_name": "Python 3",
   "language": "python",
   "name": "python3"
  },
  "language_info": {
   "codemirror_mode": {
    "name": "ipython",
    "version": 3
   },
   "file_extension": ".py",
   "mimetype": "text/x-python",
   "name": "python",
   "nbconvert_exporter": "python",
   "pygments_lexer": "ipython3",
   "version": "3.7.1"
  }
 },
 "nbformat": 4,
 "nbformat_minor": 2
}
